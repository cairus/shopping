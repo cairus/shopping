{
 "cells": [
  {
   "cell_type": "markdown",
   "metadata": {},
   "source": [
    "### Shopping Optimizer, project in Advanced Algorithmics (MTAT.03.238), 2019/2020 Autumn"
   ]
  },
  {
   "cell_type": "code",
   "execution_count": 25,
   "metadata": {},
   "outputs": [
    {
     "name": "stdout",
     "output_type": "stream",
     "text": [
      "10\n",
      "Shop(id=0, x=869, y=696, items=['A', 'J'])\n",
      "Shop(id=1, x=765, y=480, items=['A', 'B'])\n",
      "Shop(id=2, x=261, y=876, items=['A', 'C'])\n",
      "Shop(id=3, x=456, y=784, items=['B', 'C', 'D'])\n",
      "Shop(id=4, x=829, y=201, items=['D', 'H', 'I'])\n",
      "Shop(id=5, x=887, y=630, items=['E', 'F', 'H'])\n",
      "Shop(id=6, x=564, y=449, items=['G', 'F', 'D'])\n",
      "Shop(id=7, x=129, y=414, items=['H', 'I', 'J'])\n",
      "Shop(id=8, x=358, y=806, items=['I', 'J'])\n",
      "Shop(id=9, x=135, y=273, items=['E', 'G'])\n",
      "(Shop(id=0, x=869, y=696, items=['A', 'J']), Shop(id=1, x=765, y=480, items=['A', 'B']), Shop(id=2, x=261, y=876, items=['A', 'C']), Shop(id=3, x=456, y=784, items=['B', 'C', 'D']), Shop(id=4, x=829, y=201, items=['D', 'H', 'I']), Shop(id=5, x=887, y=630, items=['E', 'F', 'H']), Shop(id=6, x=564, y=449, items=['G', 'F', 'D']), Shop(id=7, x=129, y=414, items=['H', 'I', 'J']), Shop(id=8, x=358, y=806, items=['I', 'J']), Shop(id=9, x=135, y=273, items=['E', 'G']))\n"
     ]
    }
   ],
   "source": [
    "from collections import namedtuple\n",
    "\n",
    "# Input: path to shops file (assumes each row is a shop with X and Y coordinates, separated by whitespace),\n",
    "# path to items file (assumes each row is items for a shop, items separated by whitespace).\n",
    "# Output: A collection of Shops (e.g. Shop(id=0, x=869, y=696, items=['A', 'J']))\n",
    "def load_shops(path_to_shops, path_to_items):\n",
    "    Shop = namedtuple(\"Shop\", \"id x y items\")\n",
    "    shops = []\n",
    "    with open(path_to_shops) as file:\n",
    "        for i,line in enumerate(file.readlines()):\n",
    "            line = line.strip().split(\" \")\n",
    "            shops.append([i, int(line[0]), int(line[1])])\n",
    "    with open(path_to_items) as file:\n",
    "        for i,line in enumerate(file.readlines()):\n",
    "            line = line.strip().split(\" \")\n",
    "            shops[i].append([e for e in line])\n",
    "    shops = [Shop(e[0],e[1],e[2],e[3]) for e in shops]\n",
    "    return tuple(shops)\n",
    "\n",
    "shops = load_shops(\"tsp_10.txt\", \"shops_10.txt\")\n",
    "print(len(shops))\n",
    "for shop in shops:\n",
    "    print(shop)\n"
   ]
  }
 ],
 "metadata": {
  "kernelspec": {
   "display_name": "Python 3",
   "language": "python",
   "name": "python3"
  },
  "language_info": {
   "codemirror_mode": {
    "name": "ipython",
    "version": 3
   },
   "file_extension": ".py",
   "mimetype": "text/x-python",
   "name": "python",
   "nbconvert_exporter": "python",
   "pygments_lexer": "ipython3",
   "version": "3.7.4"
  }
 },
 "nbformat": 4,
 "nbformat_minor": 2
}
